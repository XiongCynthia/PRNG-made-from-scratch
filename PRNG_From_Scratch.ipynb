{
  "nbformat": 4,
  "nbformat_minor": 0,
  "metadata": {
    "colab": {
      "name": "PRNG_From_Scratch",
      "provenance": []
    },
    "kernelspec": {
      "name": "python3",
      "display_name": "Python 3"
    },
    "language_info": {
      "name": "python"
    }
  },
  "cells": [
    {
      "cell_type": "markdown",
      "source": [
        "---\n",
        "\n",
        "# Pseudo-random number generator from scratch\n",
        "\n",
        "Author: Cynthia Xiong\n",
        "\n",
        "Date: 07/07/2022\n",
        "\n",
        "This notebook was created as part of a challenge in the MLH Global Hack Week: INIT (2023). The goal is to create a pseudo-random number generator without the random module or any built-in PRNGs.\n",
        "\n",
        "---"
      ],
      "metadata": {
        "id": "vyyL_9ccemla"
      }
    },
    {
      "cell_type": "code",
      "source": [
        "import numpy as np"
      ],
      "metadata": {
        "id": "HMdskwdNppQd"
      },
      "execution_count": null,
      "outputs": []
    },
    {
      "cell_type": "markdown",
      "source": [
        "#### Linear-feedback shift register (4-bit)"
      ],
      "metadata": {
        "id": "moGKQ_4tfcUT"
      }
    },
    {
      "cell_type": "code",
      "source": [
        "# Setting the initial state\n",
        "state = [0,1,1,0]"
      ],
      "metadata": {
        "id": "BQJ4x2CBnBPS"
      },
      "execution_count": null,
      "outputs": []
    },
    {
      "cell_type": "code",
      "source": [
        "# XOR the last two numbers\n",
        "new_num = state[-1] ^ state[-2]\n",
        "\n",
        "# Put the new number in the front\n",
        "state = [new_num, *state[:-1]]\n",
        "\n",
        "# Translate the state from binary to decimal\n",
        "num = state[3] + (state[2]*2) + (state[1]*4) + (state[0]*8)\n",
        "\n",
        "# This cell should loop after the 16th run\n",
        "num"
      ],
      "metadata": {
        "id": "mT_daMtFf1WN"
      },
      "execution_count": null,
      "outputs": []
    },
    {
      "cell_type": "code",
      "source": [
        "def LFSR_4(state):\n",
        "  '''\n",
        "  This function uses a 4-bit linear-feedback shift register to generate pseudo-random numbers. It is very limited, having only\n",
        "  16 different states.\n",
        "  Inputs:\n",
        "    state = An array of 0's and 1's with a length of 4.\n",
        "  Outputs:\n",
        "    num = A pseudo-random number between 1 and 16.\n",
        "    state = An array of 0's and 1's with a length of 4. This should be fed back into the function to keep it pseudo-random.\n",
        "  '''\n",
        "  new_num = state[-1] ^ state[-2]\n",
        "  state = [new_num, *state[:-1]]\n",
        "  num = state[3] + (state[2]*2) + (state[1]*4) + (state[0]*8)\n",
        "  return num, state"
      ],
      "metadata": {
        "id": "dVCpmfEmk7ZB"
      },
      "execution_count": null,
      "outputs": []
    },
    {
      "cell_type": "code",
      "source": [
        "# This cell can loop, too\n",
        "num,state = LFSR_4(state)\n",
        "num"
      ],
      "metadata": {
        "id": "Ns92Q8FFlIqY"
      },
      "execution_count": null,
      "outputs": []
    },
    {
      "cell_type": "code",
      "source": [
        "# Speaking of loops...\n",
        "for i in range(16):\n",
        "  num,state = LFSR_4(state)\n",
        "  print(num, end=' ')"
      ],
      "metadata": {
        "id": "129YkD1HlPGR"
      },
      "execution_count": null,
      "outputs": []
    },
    {
      "cell_type": "markdown",
      "source": [
        "---\n",
        "\n",
        "#### Linear-feedback shift register (64-bit)"
      ],
      "metadata": {
        "id": "61ENjtvZpUBs"
      }
    },
    {
      "cell_type": "code",
      "source": [
        "# Now let's try something bigger\n",
        "# This should randomly return a 0 or 1\n",
        "np.random.randint(2)"
      ],
      "metadata": {
        "id": "gudrwGBpzBIt"
      },
      "execution_count": null,
      "outputs": []
    },
    {
      "cell_type": "code",
      "source": [
        "# A for-loop to make the initial state, for convenience\n",
        "state = []\n",
        "for i in range(32):\n",
        "  state = [np.random.randint(2),np.random.randint(2),*state]\n",
        "\n",
        "len(state)"
      ],
      "metadata": {
        "id": "8DU36g2uolpw"
      },
      "execution_count": null,
      "outputs": []
    },
    {
      "cell_type": "code",
      "source": [
        "# New number and changing the state from the 4-bit LFSR\n",
        "new_num = state[-1] ^ state[-2]\n",
        "state = [new_num, *state[:-1]]\n",
        "\n",
        "# Translate the state from binary to decimal\n",
        "num = 0\n",
        "for i in range(len(state)): # This loop is technically reading the binary code backwards, but eh\n",
        "  num += state[i]*(2**i) \n",
        "\n",
        "# This cell should loop for a lot more runs than the 4-bit version\n",
        "num"
      ],
      "metadata": {
        "id": "ZpZtHR8TpmEs"
      },
      "execution_count": null,
      "outputs": []
    },
    {
      "cell_type": "code",
      "source": [
        "def LFSR_64(state):\n",
        "  '''\n",
        "  This function uses a 64-bit linear-feedback shift register to generate pseudo-random numbers.\n",
        "  Inputs:\n",
        "    state = An array of 0's and 1's with a length of 64.\n",
        "  Outputs:\n",
        "    num = A pseudo-random number between 1 and (2^64)-1.\n",
        "    state = An array of 0's and 1's with a length of 64. This should be fed back into the function to keep it pseudo-random.\n",
        "  '''\n",
        "  new_num = state[-1] ^ state[-2]\n",
        "  state = [new_num, *state[:-1]]\n",
        "  num = 0\n",
        "  for i in range(len(state)):\n",
        "    num += state[i]*(2**i)\n",
        "  return num, state"
      ],
      "metadata": {
        "id": "wewtPheZvj0T"
      },
      "execution_count": null,
      "outputs": []
    },
    {
      "cell_type": "code",
      "source": [
        "# This should be the max:\n",
        "x = 0\n",
        "for i in range(64):\n",
        "  x += 2**i\n",
        "x"
      ],
      "metadata": {
        "id": "puL9e3zRtjZr"
      },
      "execution_count": null,
      "outputs": []
    },
    {
      "cell_type": "code",
      "source": [
        "num,state = LFSR_64(state)\n",
        "num"
      ],
      "metadata": {
        "id": "IyCr80MTu5XC"
      },
      "execution_count": null,
      "outputs": []
    },
    {
      "cell_type": "markdown",
      "source": [
        "---\n",
        "\n",
        "#### Using the LSFR (64-bit) to get a pseudo-random number within a specified range"
      ],
      "metadata": {
        "id": "FLGobWq8yh61"
      }
    },
    {
      "cell_type": "code",
      "source": [
        "# I'll be using the 4-bit LFSR for testing purposes\n",
        "state_4 = [1,0,0,1]"
      ],
      "metadata": {
        "id": "nRYGyxRq1LqG"
      },
      "execution_count": null,
      "outputs": []
    },
    {
      "cell_type": "code",
      "source": [
        "# Choose a lower and upper bound\n",
        "min = 2\n",
        "max = 16\n",
        "\n",
        "# Get the number and state\n",
        "num,state_4 = LFSR_4(state_4)\n",
        "\n",
        "# Use the modulo for the maximum value to get a number below the max\n",
        "new_num = num % (max - min + 1) # -min because min will be added again later, and +1 because 3 % 3 = 0, which will make the intended max impossible to get\n",
        "\n",
        "# Add the minimum value to get a number above the min\n",
        "new_num += min\n",
        "\n",
        "# Once again, this cell should loop after the 16th run\n",
        "new_num"
      ],
      "metadata": {
        "id": "BNuSZOzgygEy"
      },
      "execution_count": null,
      "outputs": []
    },
    {
      "cell_type": "code",
      "source": [
        "# Now let's see if this works:\n",
        "min = 2\n",
        "max = 16\n",
        "\n",
        "for i in range(16):\n",
        "  num,state_4 = LFSR_4(state_4)\n",
        "  new_num = num % (max - min + 1)\n",
        "  new_num += min\n",
        "  print(new_num, end=' ')"
      ],
      "metadata": {
        "id": "ROCP0tdQwHU-"
      },
      "execution_count": null,
      "outputs": []
    },
    {
      "cell_type": "code",
      "source": [
        "# Let's make a function, except using the 64-bit LFSR\n",
        "def RNG(min, max, state):\n",
        "  '''\n",
        "  This function generates a pseudo-random number within a specified range using a 64-bit linear-feedback shift register.\n",
        "  Inputs:\n",
        "    min = The lower bound in a range of numbers.\n",
        "    max = The upper bound in a range of numbers.\n",
        "    state = An array of 0's and 1's with a length of 64.\n",
        "  Outputs:\n",
        "    new_num = A pseudo-random number between the specified range.\n",
        "    state = An array of 0's and 1's with a length of 64. This should be fed back into the function to keep it pseudo-random.\n",
        "  '''\n",
        "  num,state = LFSR_64(state)\n",
        "  new_num = num % (max - min + 1)\n",
        "  new_num += min\n",
        "  return new_num, state"
      ],
      "metadata": {
        "id": "T9loC5e43euV"
      },
      "execution_count": null,
      "outputs": []
    },
    {
      "cell_type": "code",
      "source": [
        "num,state = RNG(12, 107, state)\n",
        "num"
      ],
      "metadata": {
        "id": "iWCgu-_Y35Lh"
      },
      "execution_count": null,
      "outputs": []
    },
    {
      "cell_type": "markdown",
      "source": [
        "---\n",
        "\n",
        "## Final Product\n",
        "\n",
        "RNG() generates a pseudo-random number within a specified range. Run the below cells to utilize it!"
      ],
      "metadata": {
        "id": "-uev7nMh5J2B"
      }
    },
    {
      "cell_type": "code",
      "source": [
        "# Run this cell to instantiate the functions for the psuedo-random number generator\n",
        "def LFSR_64(state):\n",
        "  new_num = state[-1] ^ state[-2]\n",
        "  state = [new_num, *state[:-1]]\n",
        "  num = 0\n",
        "  for i in range(len(state)):\n",
        "    num += state[i]*(2**i)\n",
        "  return num, state\n",
        "\n",
        "def RNG(min, max, state):\n",
        "  num,state = LFSR_64(state)\n",
        "  new_num = num % (max - min + 1)\n",
        "  new_num += min\n",
        "  return new_num, state"
      ],
      "metadata": {
        "id": "tkOU8uaF_cyK"
      },
      "execution_count": null,
      "outputs": []
    },
    {
      "cell_type": "code",
      "source": [
        "# Run this cell to set up the state variable\n",
        "import numpy as np\n",
        "state = []\n",
        "for i in range(32):\n",
        "  state = [np.random.randint(2),np.random.randint(2),*state]"
      ],
      "metadata": {
        "id": "t9KfwnYy-l9O"
      },
      "execution_count": null,
      "outputs": []
    },
    {
      "cell_type": "code",
      "source": [
        "# Specify the lower and upper bound in the range\n",
        "lower_bound = 0\n",
        "upper_bound = 100"
      ],
      "metadata": {
        "id": "NlNVqG2B4IT6"
      },
      "execution_count": null,
      "outputs": []
    },
    {
      "cell_type": "code",
      "source": [
        "# After specifying the range, run this cell to generate a pseudo-random number\n",
        "random_num,state = RNG(lower_bound, upper_bound, state)\n",
        "print('Result:', random_num)"
      ],
      "metadata": {
        "id": "UCHmUpX6-rfi"
      },
      "execution_count": null,
      "outputs": []
    },
    {
      "cell_type": "code",
      "source": [
        ""
      ],
      "metadata": {
        "id": "Km8HCdGk_QuO"
      },
      "execution_count": null,
      "outputs": []
    }
  ]
}